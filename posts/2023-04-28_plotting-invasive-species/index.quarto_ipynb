{
  "cells": [
    {
      "cell_type": "markdown",
      "metadata": {},
      "source": [
        "---\n",
        "title: \"Plotting invasive species distributions with alpha shapes and choropleth maps in Python\"\n",
        "description: |\n",
        "  Invasive and introduced species can expand quickly into new habitats, altering ecosystems. In this post we use Python's {galah}, {alphashape} and {GeoPandas} packages to visualise the growing distribution of *Rhinella marina* (cane toads) and the expanding range of *Pittisporum undulatum* in Australia.\n",
        "author:\n",
        "  - name: \"Caitlin Ramsay\"\n",
        "  - name: \"Amanda Buyan\"\n",
        "  - name: \"Dax Kellie\"\n",
        "date: \"2023-04-28\"\n",
        "title-block-banner: \"#B8573E\"\n",
        "toc: true\n",
        "toc-location: left\n",
        "toc-depth: 2\n",
        "categories:\n",
        "  - Eukaryota\n",
        "  - Animalia\n",
        "  - Plantae\n",
        "  - Maps\n",
        "  - Python\n",
        "image: images/cane-toad-map.png\n",
        "freeze: true\n",
        "---\n",
        "\n",
        "\n",
        "<!-- remove metadata section -->\n",
        "\n",
        "<style>\n",
        "#title-block-header.quarto-title-block.default .quarto-title-meta {\n",
        "    display: none;\n",
        "}\n",
        "</style>\n",
        "\n",
        "\n",
        "<!-- Author card -->\n",
        "\n",
        ":::{.author-card}\n",
        ":::{.author-card-text style=\"white-space: nowrap;\"}\n",
        "\n",
        "#### Author\n",
        "Caitlin Ramsay  \n",
        "[Amanda Buyan](https://labs.ala.org.au/about/Buyan_Amanda/index.html)  \n",
        "[Dax Kellie](https://labs.ala.org.au/about/Kellie_Dax/index.html)  \n",
        "\n",
        "#### Date\n",
        "28 April 2023\n",
        "\n",
        ":::\n",
        "\n",
        ":::{.row-b layout-ncol=\"3\" style=\"margin-left: auto; margin-right: auto; margin-top: auto; margin-bottom: auto;\"}\n",
        "\n",
        ":::{.author-card-image style=\"width: auto; height: 120px; margin-right: auto;\"}\n",
        "<img src=\"https://raw.githubusercontent.com/AtlasOfLivingAustralia/ala-labs/main/images/people/caitlin.jpg\" style=\"object-fit: cover; border-radius: 50% !important; width: 140px;\"></img>\n",
        "\n",
        ":::\n",
        "\n",
        ":::{.author-card-image style=\"width: auto; height: 120px; margin-right: auto;\"}\n",
        "<img src=\"https://raw.githubusercontent.com/AtlasOfLivingAustralia/ala-labs/main/images/people/amanda.jpg\" style=\"object-fit: cover; border-radius: 50% !important; width: 140px;\"></img>\n",
        "\n",
        ":::\n",
        "\n",
        ":::{.author-card-image style=\"width: auto; height: 120px; margin-right: auto !important;\"}\n",
        "<img src=\"https://raw.githubusercontent.com/AtlasOfLivingAustralia/ala-labs/main/images/people/dax.jpg\" style=\"object-fit: cover; border-radius: 50% !important; width: 140px;\"></img>\n",
        "\n",
        ":::\n",
        ":::\n",
        ":::\n",
        "\n",
        "<!------------------------ Post starts here ------------------------>\n",
        "\n",
        ":::{.callout-tip}\n",
        "\n",
        "## Intern Post\n",
        "\n",
        ":::\n",
        "Humans' movement across the globe has led to the accidental, and sometimes deliberate, transportation of species beyond their native habitats. In Australia since European colonisation, [around 3,000 species have been introduced](https://cloud.gbif.org/griis/resource?r=griis-australia). \n",
        "\n",
        "Within the last 200 years [over 100 native species have gone extinct](https://theconversation.com/invasive-species-are-australias-number-one-extinction-threat-116809), with invasive species labelled as affecting [82% (1,257 of 1,533) of Australia's threatened taxa in 2018](https://soe.dcceew.gov.au/overview/pressures/invasive-species-and-range-shifts#impacts-of-invasive-species). Since 1960, invasive species have cost the Australian economy [at least $390 billion in damages](https://theconversation.com/pest-plants-and-animals-cost-australia-around-25-billion-a-year-and-it-will-get-worse-164969), and are now considered a main driver of extinctions in native plants and animals. \n",
        "\n",
        "However, species from outside of Australia aren't the only ones that can encroach on other species' habitats. [Native Australian species can do it, too](https://phys.org/news/2021-08-australian-native-invasive-species.html). Thanks in part to human activity, changing temperatures and more frequent extreme weather events, some Australian species have established themselves in new areas outside of their native range. Although not as popularly discussed, Australian species that have become pests in new habitats can disrupt ecosystems much like internationally invasive species.\n",
        "\n",
        "In this post, we will use Python and the [{galah} package](https://galah.ala.org.au/) to visualise how distributions of both international invasive species and native introduced pest species have shifted over time. To do this, we will use alpha shapes to visualise the distribution of *Rhinella marina* (Cane toads) since the 1930s and create a choropleth map to visualise the expanded habitat range of *Pittosporum undulatum*.\n",
        "\n",
        "# Invasive Species\n",
        "\n",
        "### Download data\n",
        "\n",
        "To start, we will use the infamous example of the cane toad to illustrate how far an invasive species' distribution can spread each decade.\n",
        "\n",
        ":::{layout=\"[-1, 1, -1]\"}\n",
        "<img class=\"rounded\" src=\"https://ala-images.s3.ap-southeast-2.amazonaws.com/store/e/f/b/2/0dd84abb-041e-4868-93fb-7b120ab92bfe/original\"></img>\n",
        ":::\n",
        "::: {.figure-caption}\n",
        "[Rhinella marina (Isaac Clarey CC-BY-NC 4.0 (Int))](https://biocache.ala.org.au/occurrences/722881a9-aff8-40f9-af5d-fe6bea58743d)\n",
        ":::\n",
        "\n",
        "First load the required Python packages.\n"
      ],
      "id": "b9aaf037"
    },
    {
      "cell_type": "code",
      "metadata": {
        "message": false
      },
      "source": [
        "#| warning: false\n",
        "import galah\n",
        "import pandas as pd\n",
        "import geopandas\n",
        "import numpy as np\n",
        "from dateutil.parser import parse\n",
        "import matplotlib.pyplot as plt\n",
        "import matplotlib as mpl\n",
        "import alphashape\n",
        "from flexitext import flexitext"
      ],
      "id": "f3f556d6",
      "execution_count": null,
      "outputs": []
    },
    {
      "cell_type": "markdown",
      "metadata": {},
      "source": [
        "Next, we will use the [{galah} package](https://galah.ala.org.au/Python/index.html) to download occurrence records of cane toads in Australia from the Atlas of Living Australia (ALA). You will need to first provide a registered email with the ALA using `galah.galah_config()` before retrieving records.\n"
      ],
      "id": "3df22470"
    },
    {
      "cell_type": "code",
      "metadata": {},
      "source": [
        "#| echo: false\n",
        "\n",
        "galah.galah_config(email=\"amanda.buyan@csiro.au\")\n",
        "galah.galah_config(data_profile=\"ALA\")"
      ],
      "id": "4036f448",
      "execution_count": null,
      "outputs": []
    },
    {
      "cell_type": "code",
      "metadata": {},
      "source": [
        "#| eval: false\n",
        "# Add registered email (register at ala.org.au)\n",
        "galah.galah_config(email = \"your-email@email.com\")\n",
        "galah.galah_config(data_profile=\"ALA\")"
      ],
      "id": "f84aa647",
      "execution_count": null,
      "outputs": []
    },
    {
      "cell_type": "code",
      "metadata": {},
      "source": [
        "#| column: page\n",
        "#| fig-align: center\n",
        "cane_toads = galah.atlas_occurrences(taxa = \"Rhinella marina\", use_data_profile = True)\n",
        "cane_toads.head(5)"
      ],
      "id": "3b66987a",
      "execution_count": null,
      "outputs": []
    },
    {
      "cell_type": "markdown",
      "metadata": {},
      "source": [
        "### Clean data\n",
        "\n",
        "We'll clean our data to ensure that there are no null or missing values in our coordinates and date fields. Because `galah.atlas_occurrences()` returns a Pandas dataframe, we have plenty of functions we can use to clean our data.\n"
      ],
      "id": "faceb439"
    },
    {
      "cell_type": "code",
      "metadata": {},
      "source": [
        "cane_toads = cane_toads.dropna(subset=[\"eventDate\", \"decimalLatitude\", \"decimalLongitude\"])"
      ],
      "id": "58422158",
      "execution_count": null,
      "outputs": []
    },
    {
      "cell_type": "markdown",
      "metadata": {},
      "source": [
        "We want to map cane toad's distribution each decade in our final visualisation. However, the `eventDate` value for each record is formaatted as a string value `yyyy-mm-dd Thh:mm:ssZ`. Let's write our own function `convert_date_to_decade()` that extract the year from a date `string` and return its corresponding decade by rounding down to the nearest decade.\n"
      ],
      "id": "c678ba2c"
    },
    {
      "cell_type": "code",
      "metadata": {},
      "source": [
        "def convert_date_to_decade(value):\n",
        "    date = parse(value)\n",
        "    return date.year - (date.year%10)"
      ],
      "id": "19805f79",
      "execution_count": null,
      "outputs": []
    },
    {
      "cell_type": "markdown",
      "metadata": {},
      "source": [
        "We'll create our new `decade` column by mapping each record's date value in `eventDate` to its corresponding decade value.\n"
      ],
      "id": "d4475c83"
    },
    {
      "cell_type": "code",
      "metadata": {},
      "source": [
        "#| warning: false\n",
        "cane_toads[\"decade\"] = cane_toads[\"eventDate\"].map(convert_date_to_decade)"
      ],
      "id": "b4eb03a9",
      "execution_count": null,
      "outputs": []
    },
    {
      "cell_type": "markdown",
      "metadata": {},
      "source": [
        "### Make Australia map\n",
        "\n",
        "Next, let's download a shapefile of Australia with state boundaries. The Australian Bureau of Statistics provides [digital boundary files](https://www.abs.gov.au/statistics/standards/australian-statistical-geography-standard-asgs-edition-3/jul2021-jun2026/access-and-downloads/digital-boundary-files) from which you can explore many other Australian shapefiles. Download the [States and Territories - 2021 - Shapefile](https://www.abs.gov.au/statistics/standards/australian-statistical-geography-standard-asgs-edition-3/jul2021-jun2026/access-and-downloads/digital-boundary-files/STE_2021_AUST_SHP_GDA2020.zip) a zip folder. Save the zip folder inside your working folder and then unzip it to access the `.shp` file inside.\n",
        "\n",
        "{`GeoPandas`} is a package that handles geospatial data in Python and can be used to load in shapefiles as `GeoPandas` dataframes. Let's test this out by plotting our Australian state boundary shapefile.\n"
      ],
      "id": "8e987dda"
    },
    {
      "cell_type": "code",
      "metadata": {},
      "source": [
        "#| eval: false\n",
        "mpl.rcParams['figure.dpi'] = 1200 # generate a high resolution image\n",
        "states = geopandas.read_file(\"Australia_state_boundaries/STE_2021_AUST_GDA2020.shp\")\n",
        "states.plot(edgecolor = \"#5A5A5A\", linewidth = 0.5, facecolor = \"white\")"
      ],
      "id": "63010fd0",
      "execution_count": null,
      "outputs": []
    },
    {
      "cell_type": "code",
      "metadata": {
        "message": false
      },
      "source": [
        "#| warning: false\n",
        "#| echo: false\n",
        "mpl.rcParams['figure.dpi'] = 1200 # generate a high resolution image\n",
        "states = geopandas.read_file(\"../data/Australia_state_boundaries/STE_2021_AUST_GDA2020.shp\")\n",
        "states.plot(edgecolor = \"#5A5A5A\", linewidth = 0.5, facecolor = \"white\")"
      ],
      "id": "05ed4a23",
      "execution_count": null,
      "outputs": []
    },
    {
      "cell_type": "markdown",
      "metadata": {},
      "source": [
        "### Generate alpha shapes\n",
        "\n",
        "Alpha shapes can be used to define and visualise the shape of a set of species occurrence points in space. They are useful because they can be generated on *data-deficient* species with few available observations, and without using environmental data or complex algorithms. Let's use alpha shapes to see how cane toads' distribution has changed each decade since they were introduced.\n",
        "\n",
        "First, we need to obtain a list of all decades with cane toad observations. We'll use the `decade` column from our `cane_toads` dataframe to group our observations.\n"
      ],
      "id": "42914270"
    },
    {
      "cell_type": "code",
      "metadata": {},
      "source": [
        "decades = list(set(cane_toads[\"decade\"]))"
      ],
      "id": "6624a8d7",
      "execution_count": null,
      "outputs": []
    },
    {
      "cell_type": "markdown",
      "metadata": {},
      "source": [
        "We will be using the [{`alphashape`} package](https://pypi.org/project/alphashape/) to create alpha shapes representing the cane toad distribution for each decade they have been observed. The  alphashape.alphashape() function requires two things:\n",
        "\n",
        "  1.  A set of observation coordinates\n",
        "  2.  An alpha parameter, which sets how tightly the shape’s lines conform to our observations\n",
        "    \n",
        "Let's make an alpha shape for each decade's observations. We'll also add a slight buffer to each alpha shape to smooth out some of its edges. Then we'll group all the shapes into one large `GeoPandas` dataframe.\n",
        "\n",
        ":::{.callout-note}\n",
        "We used `alpha = 1`, but it's good practice to change this parameter depending on how widely distributed the coordinates of your data are. Also note that `alphashape.alphashape()` requires at least 3 data points to calculate an alpha shape.\n",
        ":::\n"
      ],
      "id": "0bb61d81"
    },
    {
      "cell_type": "code",
      "metadata": {},
      "source": [
        "alpha_shape_gdf = geopandas.GeoDataFrame() # GeoPandas data frame to contain all alpha shapes\n",
        "for i, d in enumerate(decades):\n",
        "    decade_points = cane_toads[[\"decimalLongitude\", \"decimalLatitude\"]] [cane_toads[\"decade\"] == d]\n",
        "    if len(decade_points) <= 3: \n",
        "        continue\n",
        "    alpha_shape = alphashape.alphashape(decade_points, 1)\n",
        "    d = {\"decade\": d, \"geometry\": [alpha_shape.buffer(0.2)]}\n",
        "    tmp_gdf = geopandas.GeoDataFrame(d, crs=\"EPSG:7844\")\n",
        "    alpha_shape_gdf = pd.concat([alpha_shape_gdf, tmp_gdf])"
      ],
      "id": "8dbce7c3",
      "execution_count": null,
      "outputs": []
    },
    {
      "cell_type": "markdown",
      "metadata": {},
      "source": [
        "Next, let's clean up our `GeoPandas` dataframe so that it is ready for plotting! Sometimes the `alphashape.alphashape()` algorithm will produce an empty shape that needs to be removed from the dataframe (this generally happens when the chosen alpha parameter is not appropriate for the supplied set of points). Let's remove these shapes from our data.\n"
      ],
      "id": "56baf9a6"
    },
    {
      "cell_type": "code",
      "metadata": {},
      "source": [
        "alpha_shape_gdf = alpha_shape_gdf[~alpha_shape_gdf[\"geometry\"].is_empty]"
      ],
      "id": "413e395f",
      "execution_count": null,
      "outputs": []
    },
    {
      "cell_type": "markdown",
      "metadata": {},
      "source": [
        "Now let's format our decade string to display correctly on the figure legend by making sure it's in `YYYYs` format.\n"
      ],
      "id": "1e85c6fb"
    },
    {
      "cell_type": "code",
      "metadata": {},
      "source": [
        "alpha_shape_gdf[\"decade_string\"] = alpha_shape_gdf[\"decade\"].map(lambda d: str(d) + \"s\")"
      ],
      "id": "d30a4518",
      "execution_count": null,
      "outputs": []
    },
    {
      "cell_type": "markdown",
      "metadata": {},
      "source": [
        "Finally, because we expect cane toad distributions in earlier decades to be smaller than in recent decades, we'll need to plot earlier distributions *on top* of later distributions to avoid covering the earlier ones up. To achieve this, let's order the alpha shapes in descending order by decade.\n"
      ],
      "id": "e5c99f5d"
    },
    {
      "cell_type": "code",
      "metadata": {},
      "source": [
        "alpha_shape_gdf.sort_values(by='decade', ascending=False, inplace=True)"
      ],
      "id": "98ddffea",
      "execution_count": null,
      "outputs": []
    },
    {
      "cell_type": "markdown",
      "metadata": {},
      "source": [
        "### Map alpha shape distributions\n",
        "\n",
        "Finally, we can plot our alpha shape distributions for each decade onto our map of Australia!\n",
        "\n",
        "This figure showcases the incredible pace of the cane toad's spread across northern Australia. Our map shows that cane toads have spread across most of Queensland, the top end of the Northern Territory (from the 1980s to 2010s) and more recently, into the Kimberley region of Western Australia.\n"
      ],
      "id": "8bfab1e8"
    },
    {
      "cell_type": "code",
      "metadata": {
        "message": false,
        "fig-height": 9,
        "out-extra": "style=margin-left:auto;margin-right:auto;"
      },
      "source": [
        "#| warning: false\n",
        "#| column: page\n",
        "#| fig-align: center\n",
        "ax = states.boundary.plot(edgecolor=\"#5A5A5A\", linewidth=0.5, facecolor=\"white\", zorder=-1)\n",
        "\n",
        "alpha_shape_gdf.plot(ax = ax, cmap=\"plasma\", column = \"decade_string\", legend=True, categorical=True)\n",
        "lgd = ax.get_legend()\n",
        "lgd.draw_frame(False)\n",
        "lgd.set_bbox_to_anchor((1.2, 0.8))\n",
        "\n",
        "title_text = \"<style: italic>Rhinella marina</> (cane toad) distributions per decade\"\n",
        "flexitext(0.5, 1, title_text, va=\"bottom\", ha=\"center\");\n",
        "\n",
        "caption_text = \"<color:#5A5A5A, style:italic, size:7>Distributions calculated with alpha hulls of each decade's cane toad observations</>\"\n",
        "flexitext(0.05, 0, caption_text, va=\"top\");\n",
        "\n",
        "plt.xlim([110, 161])\n",
        "plt.ylim([-45, -8])\n",
        "plt.axis(\"off\")\n",
        "plt.subplots_adjust(left=-0.15, right=1)\n",
        "\n",
        "plt.show()"
      ],
      "id": "16cc3cfe",
      "execution_count": null,
      "outputs": []
    },
    {
      "cell_type": "markdown",
      "metadata": {},
      "source": [
        "### Other invasive species\n",
        "\n",
        "Let's use the same code as above to visualise other invasive species *Camelus dromedarius* (Feral dromedary camels) and *Echium plantagineum* (Paterson's curse).\n",
        "\n",
        ":::{.panel-tabset .nav-pills}\n",
        "\n",
        "#### Camels\n"
      ],
      "id": "fbe84e22"
    },
    {
      "cell_type": "code",
      "metadata": {
        "fig-height": 7,
        "out-extra": "style=margin-left:auto;margin-right:auto;"
      },
      "source": [
        "#| code-fold: true\n",
        "#| fig-align: center\n",
        "#| warning: false\n",
        "\n",
        "# Camel\n",
        "camels = galah.atlas_occurrences(\"Camelus dromedarius\", use_data_profile=\"ALA\")\n",
        "camels = camels.dropna(subset=[\"eventDate\", \"decimalLatitude\", \"decimalLongitude\"])\n",
        "camels[\"decade\"] = camels[\"eventDate\"].map(convert_date_to_decade)\n",
        "decades = list(set(camels[\"decade\"]))\n",
        "\n",
        "alpha_shape_gdf = geopandas.GeoDataFrame() # GeoPandas data frame to contain all alpha shapes\n",
        "\n",
        "for i, d in enumerate(decades):\n",
        "    decade_points = camels[[\"decimalLongitude\", \"decimalLatitude\"]] [camels[\"decade\"] == d]\n",
        "    if len(decade_points) <= 3: \n",
        "        continue\n",
        "    alpha_shape = alphashape.alphashape(decade_points, 1)\n",
        "    d = {\"decade\": d, \"geometry\": [alpha_shape.buffer(0.2)]}\n",
        "    tmp_gdf = geopandas.GeoDataFrame(d, crs=\"EPSG:4326\")\n",
        "    alpha_shape_gdf = pd.concat([alpha_shape_gdf, tmp_gdf])\n",
        "\n",
        "alpha_shape_gdf = alpha_shape_gdf[ ~alpha_shape_gdf[\"geometry\"].is_empty]\n",
        "alpha_shape_gdf[\"decade_string\"] = alpha_shape_gdf[\"decade\"].map(lambda d: str(d) + \"s\")\n",
        "alpha_shape_gdf.sort_values(by='decade', ascending=False, inplace=True)\n",
        "\n",
        "ax = states.boundary.plot(edgecolor=\"#5A5A5A\", linewidth=0.5, facecolor=\"white\", zorder=-1)\n",
        "\n",
        "alpha_shape_gdf.plot(ax = ax, cmap=\"plasma\", column = \"decade\", legend=True, categorical=True)\n",
        "lgd = ax.get_legend()\n",
        "lgd.draw_frame(False)\n",
        "lgd.set_bbox_to_anchor((1.2, 0.61))\n",
        "\n",
        "title_text = \"<style: italic>Camelus dromedarius</> (dromedary camel) distributions per decade\"\n",
        "flexitext(0.5, 1, title_text, va=\"bottom\", ha=\"center\");\n",
        "\n",
        "caption_text = \"<color:#5A5A5A, style:italic, size:7>Distributions calculated with alpha hulls of each decade's dromedary camel observations</>\"\n",
        "flexitext(0.05, 0, caption_text, va=\"top\");\n",
        "\n",
        "plt.xlim([110, 161])\n",
        "plt.ylim([-45, -8])\n",
        "plt.axis(\"off\")\n",
        "plt.subplots_adjust(left=-0.1, right=1)\n",
        "\n",
        "plt.show()"
      ],
      "id": "49244b9d",
      "execution_count": null,
      "outputs": []
    },
    {
      "cell_type": "markdown",
      "metadata": {},
      "source": [
        "#### Patterson's curse\n"
      ],
      "id": "6bf9b9b5"
    },
    {
      "cell_type": "code",
      "metadata": {
        "fig-height": 7,
        "out-extra": "style=margin-left:auto;margin-right:auto;"
      },
      "source": [
        "#| code-fold: true\n",
        "#| fig-align: center\n",
        "#| warning: false\n",
        "\n",
        "# Paterson's Curse\n",
        "opuntia = galah.atlas_occurrences(\"Echium plantagineum\", use_data_profile=\"ALA\")\n",
        "opuntia = opuntia.dropna(subset=[\"eventDate\", \"decimalLatitude\", \"decimalLongitude\"])\n",
        "opuntia[\"decade\"] = opuntia[\"eventDate\"].map(convert_date_to_decade)\n",
        "decades = list(set(opuntia[\"decade\"]))\n",
        "\n",
        "alpha_shape_gdf = geopandas.GeoDataFrame() # GeoPandas data frame to contain all alpha shapes\n",
        "\n",
        "for i, d in enumerate(decades):\n",
        "    decade_points = opuntia[[\"decimalLongitude\", \"decimalLatitude\"]] [opuntia[\"decade\"] == d]\n",
        "    if len(decade_points) <= 3: \n",
        "        continue\n",
        "    alpha_shape = alphashape.alphashape(decade_points, 1)\n",
        "    d = {\"decade\": d, \"geometry\": [alpha_shape.buffer(0.2)]}\n",
        "    tmp_gdf = geopandas.GeoDataFrame(d, crs=\"EPSG:4326\")\n",
        "    alpha_shape_gdf = pd.concat([alpha_shape_gdf, tmp_gdf])\n",
        "\n",
        "alpha_shape_gdf = alpha_shape_gdf[ ~alpha_shape_gdf[\"geometry\"].is_empty]\n",
        "alpha_shape_gdf[\"decade_string\"] = alpha_shape_gdf[\"decade\"].map(lambda d: str(d) + \"s\")\n",
        "alpha_shape_gdf.sort_values(by='decade', ascending=False, inplace=True)\n",
        "\n",
        "ax = states.boundary.plot(edgecolor=\"#5A5A5A\", linewidth=0.5, facecolor=\"white\", zorder=-1)\n",
        "\n",
        "alpha_shape_gdf.plot(ax = ax, cmap=\"plasma\", column = \"decade\", legend=True, categorical=True)\n",
        "lgd = ax.get_legend()\n",
        "lgd.draw_frame(False)\n",
        "lgd.set_bbox_to_anchor((1.2, 0.85))\n",
        "\n",
        "title_text = \"<style: italic>Echium plantagineum</> (Paterson's curse) distributions per decade\"\n",
        "flexitext(0.5, 1, title_text, va=\"bottom\", ha=\"center\");\n",
        "\n",
        "caption_text = \"<color:#5A5A5A, style:italic, size:7>Distributions calculated with alpha hulls of each decade's Paterson's curse observations</>\"\n",
        "flexitext(0.05, 0, caption_text, va=\"top\");\n",
        "\n",
        "plt.xlim([110, 161])\n",
        "plt.ylim([-45, -8])\n",
        "plt.axis(\"off\")\n",
        "plt.subplots_adjust(left=-0.1, right=1)\n",
        "\n",
        "plt.show()"
      ],
      "id": "15017a11",
      "execution_count": null,
      "outputs": []
    },
    {
      "cell_type": "markdown",
      "metadata": {},
      "source": [
        ":::\n",
        "\n",
        "# Native introduced pest species\n",
        "\n",
        "When people think of invasive species, they generally think of species that have been introduced to Australia from other countries. However, even Australia's native species can become pests when introduced to a new ecosystem. \n",
        "\n",
        "One good example of native pests are the trees *Pittosporum undulatum* (sometimes called Sweet Pittosporum). These trees have been introduced as ornamental plants in gardens across Australia because of their sweet-scented flowers and bright berries. Although *Pittosporum undulatum*'s native range extends from southern Queensland to eastern Victoria, it is now considered an environmental weed in many regions where it has been introduced.\n",
        "\n",
        ":::{layout=\"[-1, 1, -1]\"}\n",
        "<img class=\"rounded\" src=\"https://ala-images.s3.ap-southeast-2.amazonaws.com/store/9/9/e/b/3765267a-f11a-474f-9bc9-215a5394be99/original\"></img>\n",
        ":::\n",
        "::: {.figure-caption}\n",
        "[Pittosporum undulatum (Chris Clarke CC-BY)](https://biocache.ala.org.au/occurrences/30b0b6dc-1d77-4a1f-ae15-18ef5ef67e28)\n",
        ":::\n",
        "\n",
        "Let's create a choropleth map to visualise the to visualise the bioregions where *Pittosporum undulatum* is native and introduced.\n",
        "\n",
        "\n",
        "### Download IBRA regions\n",
        "\n",
        "First, let's download a shapefile of Australia's bioregions. The [IBRA7 bioregions](https://data.gov.au/dataset/ds-dga-d44dd392-ebea-4f1a-b30e-4a2da154aae4/details?q=ibra) classify areas within Australia that are geographically and ecologically distinct. Download the zip folder, save it in your project directory and unzip it. We can again use the {GeoPandas} package to read in and handle these data.\n"
      ],
      "id": "755a169e"
    },
    {
      "cell_type": "code",
      "metadata": {},
      "source": [
        "#| eval: false\n",
        "bioregions = geopandas.read_file(\"IBRA7_regions/ibra7_regions.shp\")\n",
        "bioregions.plot(edgecolor = \"#5A5A5A\", linewidth = 0.25, facecolor = \"white\")"
      ],
      "id": "3d4531cc",
      "execution_count": null,
      "outputs": []
    },
    {
      "cell_type": "code",
      "metadata": {
        "message": false
      },
      "source": [
        "#| echo: false\n",
        "#| warning: false\n",
        "bioregions = geopandas.read_file(\"../data/IBRA7_regions/ibra7_regions.shp\")\n",
        "bioregions.plot(edgecolor = \"#5A5A5A\", linewidth = 0.25, facecolor = \"white\")"
      ],
      "id": "981a9e79",
      "execution_count": null,
      "outputs": []
    },
    {
      "cell_type": "markdown",
      "metadata": {},
      "source": [
        "Within our `bioregions` dataframe, the column `REG_NAME_7` contains IBRA bioregion names.\n"
      ],
      "id": "8ecc3fee"
    },
    {
      "cell_type": "code",
      "metadata": {},
      "source": [
        "#| column: page\n",
        "bioregions.head(5)"
      ],
      "id": "ea509b88",
      "execution_count": null,
      "outputs": []
    },
    {
      "cell_type": "markdown",
      "metadata": {},
      "source": [
        "### Find bioregions with observations\n",
        "\n",
        "We'll once again use {galah} to find numbers of *Pittosporum undulatum* in each bioregion. First, let's find which field ID corresponds to bioregions in {galah}\n"
      ],
      "id": "2fdae44b"
    },
    {
      "cell_type": "code",
      "metadata": {},
      "source": [
        "galah.search_all(fields = \"IBRA\") "
      ],
      "id": "5d6bd4b0",
      "execution_count": null,
      "outputs": []
    },
    {
      "cell_type": "markdown",
      "metadata": {},
      "source": [
        "It looks like field `cl1048` contains IBRA 7 regions. Let's check what values this field contains by using `galah.show_values()`.\n"
      ],
      "id": "b3038903"
    },
    {
      "cell_type": "code",
      "metadata": {},
      "source": [
        "galah.show_values(field = \"cl1048\")"
      ],
      "id": "97c9e11b",
      "execution_count": null,
      "outputs": []
    },
    {
      "cell_type": "markdown",
      "metadata": {},
      "source": [
        "Now we can use the `group_by` argument in `galah.atlas_counts()` to group observations of *Pittosporum undulatum* by bioregion, returning all bioregions where *Pittosporum undulatum* has been observed at least once. We'll extract extract and save the bioregion names in a dataframe.\n"
      ],
      "id": "4845ea41"
    },
    {
      "cell_type": "code",
      "metadata": {},
      "source": [
        "found_bioregion_counts = galah.atlas_counts(\"Pittosporum undulatum\",\n",
        "                                           group_by=\"cl1048\",\n",
        "                                           expand = False)\n",
        "\n",
        "# extract bioregion names from Pandas dataframe into list\n",
        "found_bioregions = list(found_bioregion_counts[\"cl1048\"])\n",
        "\n",
        "print(found_bioregion_counts[0:10])"
      ],
      "id": "570d5600",
      "execution_count": null,
      "outputs": []
    },
    {
      "cell_type": "markdown",
      "metadata": {},
      "source": [
        "### Separate native & introduced regions\n",
        "\n",
        "Next, let's separate bioregions where *Pittosporum undulatum* is native from bioregions where it has been introduced. The Australia Native Plants Society estimates *Pittosporum undulatum*'s native range overlapping with South Eastern Queensland, NSW North Coast, Sydney Basin, South East Corner and South East Coastal Plain (see [here](https://anpsa.org.au/plant_profiles/pittosporum-undulatum/)). Let's save these bioregion names in a separate dataframe and compare them to the overall list `found_bioregions`.\n"
      ],
      "id": "1ed3de55"
    },
    {
      "cell_type": "code",
      "metadata": {},
      "source": [
        "native_bioregions = [\"South Eastern Queensland\", \"NSW North Coast\", \"Sydney Basin\", \"South East Corner\", \"South East Coastal Plain\"]\n",
        "introduced_bioregions = [region for region in found_bioregions if region not in native_bioregions]\n",
        "\n",
        "print(introduced_bioregions[1:5]) # first 5 introduced regions"
      ],
      "id": "6e7b5d23",
      "execution_count": null,
      "outputs": []
    },
    {
      "cell_type": "markdown",
      "metadata": {},
      "source": [
        "Next we can add a new column `native` to our GeoPandas bioregion dataframe to identify native and introduced regions. We'll use the `.loc` method to assign a \"Native\", \"Introduced\" or \"No observations\" label to each row depending on whether the region is in `native_bioregions` or `introduced_bioregions`.\n"
      ],
      "id": "044c0cff"
    },
    {
      "cell_type": "code",
      "metadata": {},
      "source": [
        "bioregions.loc[bioregions[\"REG_NAME_7\"].isin(native_bioregions), \"native\"] = \"Native\"\n",
        "bioregions.loc[bioregions[\"REG_NAME_7\"].isin(introduced_bioregions), \"native\"] = \"Introduced\"\n",
        "bioregions[\"native\"] = bioregions[\"native\"].replace(\"nan\", \"No observations\")"
      ],
      "id": "1fe13cc2",
      "execution_count": null,
      "outputs": []
    },
    {
      "cell_type": "markdown",
      "metadata": {},
      "source": [
        "### Make choropleth map\n",
        "\n",
        "When plotting this GeoPandas dataframe, we can specify that we want the map coloured according to its `native` label so that native, introduced and not found bioregions are distinguishable colours. This is done by supplying the `column` argument of the `.plot()` function with the column of the dataframe that the colouring is based upon. However, `matplotlib` would choose a default colourmap to colour the bioregions so we will need to specify the exact colours we wanted associated with each type of bioregion. \n",
        "\n",
        "To identify our three categories of regions on our map, we'll create a new column `colour` containing colour hex codes for plotting our regions.\n"
      ],
      "id": "389ea139"
    },
    {
      "cell_type": "code",
      "metadata": {},
      "source": [
        "bioregions.loc[bioregions[\"native\"] == \"Native\", \"colour\"] = \"#8FBD4C\" # Native\n",
        "bioregions.loc[bioregions[\"native\"] == \"Introduced\", \"colour\"] = \"#F7872E\" # Introduced\n",
        "bioregions.loc[bioregions[\"native\"] == \"No observations\", \"colour\"] = \"#E4DFCF\" # No observations"
      ],
      "id": "efaa5b4a",
      "execution_count": null,
      "outputs": []
    },
    {
      "cell_type": "markdown",
      "metadata": {},
      "source": [
        "We can use this `colour` column as the input to our `.plot()` function.\n",
        "\n",
        "Our map shows that *Pittosporum undulatum* has been observed in Western Australia, Northern Territory, South Australia, and even Tasmania despite having a fairly narrow native range along the east coast of Australia.\n"
      ],
      "id": "349c8bda"
    },
    {
      "cell_type": "code",
      "metadata": {
        "fig-height": 9,
        "out-extra": "style=margin-left:auto;margin-right:auto;"
      },
      "source": [
        "#| column: page\n",
        "#| fig-align: center\n",
        "bioregions.plot(edgecolor=\"white\", linewidth = 0.25, color = bioregions[\"colour\"])\n",
        "\n",
        "title_text = \"<style:italic>Pittosporum undulatum</> <color:#8FBD4C, weight:bold>native</> and <color:#F7872E, weight:bold>introduced</> Australian bioregions\"\n",
        "flexitext(0.5, 1, title_text, va=\"bottom\", ha=\"center\");\n",
        "\n",
        "plt.xlim([110, 161])\n",
        "plt.ylim([-45, -8])\n",
        "plt.axis(\"off\")\n",
        "plt.show()"
      ],
      "id": "6bdca3d3",
      "execution_count": null,
      "outputs": []
    },
    {
      "cell_type": "markdown",
      "metadata": {},
      "source": [
        "# Final thoughts\n",
        "\n",
        "Human activity—from constructing buildings to travelling overseas to gardening—plays a part in shaping modern ecosystems. Our maps showed how quickly well-known invasive species have established themselves across Australia, and how widely even native Australian plants can spread when introduced to non-native regions.\n",
        "\n",
        "Humans are just one of many drivers of introducing species to new areas. Changes to the environment, for example, can shrink available resources and living space in a habitat, giving introduced species a chance to outcompete native species for what resources and space are left. [As species inevitably enter and alter ecosystems](https://soe.dcceew.gov.au/overview/pressures/invasive-species-and-range-shifts#range-shifts-and-extensions), large weather events, extreme temperatures and habitat degradation [can give invasives a big leg-up on the native competition, too](https://theconversation.com/research-reveals-fire-is-pushing-88-of-australias-threatened-land-mammals-closer-to-extinction-185965). \n",
        "\n",
        "Nonetheless, there is still hope. Research finds [native species can still adapt to changing environments](https://www.ecolsoc.org.au/news/native-plants-are-taking-back-their-homes/) and simple tasks like [pulling weeds](https://theconversation.com/pulling-out-weeds-is-the-best-thing-you-can-do-to-help-nature-recover-from-the-fires-130296) can help native species survive after events like fires.\n",
        "\n",
        "<details><summary style = \"color: #E06E53;\">Expand for session info</summary>\n"
      ],
      "id": "cc1f4af5"
    },
    {
      "cell_type": "code",
      "metadata": {},
      "source": [
        "import math\n",
        "import natsort\n",
        "import pandas\n",
        "import session_info\n",
        "\n",
        "session_info.show()"
      ],
      "id": "570da2c8",
      "execution_count": null,
      "outputs": []
    },
    {
      "cell_type": "markdown",
      "metadata": {},
      "source": [
        "</details>"
      ],
      "id": "ac8bbcb5"
    }
  ],
  "metadata": {
    "kernelspec": {
      "name": "python3",
      "language": "python",
      "display_name": "Python 3 (ipykernel)",
      "path": "C:\\Users\\KEL329\\AppData\\Local\\Programs\\Python\\Python313\\share\\jupyter\\kernels\\python3"
    }
  },
  "nbformat": 4,
  "nbformat_minor": 5
}